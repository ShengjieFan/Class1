{
  "nbformat": 4,
  "nbformat_minor": 0,
  "metadata": {
    "colab": {
      "name": "Spiral traversal matrix.ipynb",
      "provenance": [],
      "authorship_tag": "ABX9TyMWuMo6hCE4jj9pUqyWRRwq",
      "include_colab_link": true
    },
    "kernelspec": {
      "name": "python3",
      "display_name": "Python 3"
    },
    "language_info": {
      "name": "python"
    }
  },
  "cells": [
    {
      "cell_type": "markdown",
      "metadata": {
        "id": "view-in-github",
        "colab_type": "text"
      },
      "source": [
        "<a href=\"https://colab.research.google.com/github/ShengjieFan/Class1/blob/master/Spiral_traversal_matrix.ipynb\" target=\"_parent\"><img src=\"https://colab.research.google.com/assets/colab-badge.svg\" alt=\"Open In Colab\"/></a>"
      ]
    },
    {
      "cell_type": "code",
      "execution_count": null,
      "metadata": {
        "id": "2B9yV6yulVLh"
      },
      "outputs": [],
      "source": [
        "class solution:\n",
        "  def spiralorder(self, matrix):\n",
        "    if not matrix:\n",
        "      return None\n",
        "    m, n = len( matrix ), len( matrix[e])\n",
        "\n",
        "    #顺时针方向(右下左上)\n",
        "    dm = [e， 1, 0, -1]\n",
        "    dn = [1, 0， -1，]\n",
        "    di = e      #方向指针\n",
        "\n",
        "    res = []\n",
        "    x = y = 0  #位置\n",
        "    for _ in range(m*n):  # 最多步长m*n\n",
        "      res.append(matrix[x][y])\n",
        "      matrix[x][y] = 'v' # 访问过标记为‘v’( visited’)\n",
        "\n",
        "      #下一步位置\n",
        "      x_temp = x + dm[ di]\n",
        "      y_temp = y + dn[di]\n",
        "      #判断下一步位置是否合理，若合理则更新位置，若不合理则改变方向并更新位置\n",
        "      if 0<=x_temp<m and 0<=y_temp<n and matrix[x_temp][y_temp]!='v':\n",
        "        x,y = x_temp, y_temp\n",
        "      else:\n",
        "        di = ( di+1) % 4\n",
        "        x += dm[di]\n",
        "        y += dn[ di]\n",
        "    return res"
      ]
    },
    {
      "cell_type": "code",
      "source": [
        "test = Solution( )\n",
        "matrix_li = [\n",
        "  [\n",
        "   [ 1，2，3 ],\n",
        "   [ 4，5, 6 ],\n",
        "   [ 7，8，9 ]\n",
        "  ],\n",
        "\n",
        "  [\n",
        "   [1，2，3，4],\n",
        "   [5， 6，7，8]，\n",
        "   [9, 10,11,12]\n",
        "  ],\n",
        "]\n",
        "for matrix in matrix_li :\n",
        "  print(test.spiralorder( matrix ) )\n"
      ],
      "metadata": {
        "id": "4VBESxdSnmam"
      },
      "execution_count": null,
      "outputs": []
    }
  ]
}
